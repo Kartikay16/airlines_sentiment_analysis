{
 "cells": [
  {
   "cell_type": "code",
   "execution_count": 4,
   "metadata": {},
   "outputs": [
    {
     "name": "stderr",
     "output_type": "stream",
     "text": [
      "c:\\Users\\gkart\\AppData\\Local\\Programs\\Python\\Python311\\Lib\\site-packages\\tqdm\\auto.py:21: TqdmWarning: IProgress not found. Please update jupyter and ipywidgets. See https://ipywidgets.readthedocs.io/en/stable/user_install.html\n",
      "  from .autonotebook import tqdm as notebook_tqdm\n"
     ]
    }
   ],
   "source": [
    "from transformers import BertModel, BertTokenizer\n",
    "from datasets import load_dataset\n",
    "import pandas  as pd\n",
    "import numpy as np\n",
    "\n",
    "model_path = \"bert-base-uncased\""
   ]
  },
  {
   "cell_type": "code",
   "execution_count": 5,
   "metadata": {},
   "outputs": [],
   "source": [
    "tokenizer  = BertTokenizer.from_pretrained(model_path)"
   ]
  },
  {
   "cell_type": "code",
   "execution_count": 6,
   "metadata": {},
   "outputs": [],
   "source": [
    "model = BertModel.from_pretrained(model_path)"
   ]
  },
  {
   "cell_type": "code",
   "execution_count": 7,
   "metadata": {},
   "outputs": [],
   "source": [
    "dataset = load_dataset('osanseviero/twitter-airline-sentiment')\n",
    "dataset = dataset[\"train\"].to_pandas()"
   ]
  },
  {
   "cell_type": "code",
   "execution_count": 8,
   "metadata": {},
   "outputs": [],
   "source": [
    "dataset = dataset[[\"airline_sentiment\",\"text\"]]"
   ]
  },
  {
   "cell_type": "code",
   "execution_count": 9,
   "metadata": {},
   "outputs": [],
   "source": [
    "dataset['airline_sentiment'] = dataset['airline_sentiment'].map({\"positive\" : 2, \"negative\" :1, \"neutral\" :0})"
   ]
  },
  {
   "cell_type": "code",
   "execution_count": 10,
   "metadata": {},
   "outputs": [
    {
     "data": {
      "text/html": [
       "<div>\n",
       "<style scoped>\n",
       "    .dataframe tbody tr th:only-of-type {\n",
       "        vertical-align: middle;\n",
       "    }\n",
       "\n",
       "    .dataframe tbody tr th {\n",
       "        vertical-align: top;\n",
       "    }\n",
       "\n",
       "    .dataframe thead th {\n",
       "        text-align: right;\n",
       "    }\n",
       "</style>\n",
       "<table border=\"1\" class=\"dataframe\">\n",
       "  <thead>\n",
       "    <tr style=\"text-align: right;\">\n",
       "      <th></th>\n",
       "      <th>airline_sentiment</th>\n",
       "      <th>text</th>\n",
       "    </tr>\n",
       "  </thead>\n",
       "  <tbody>\n",
       "    <tr>\n",
       "      <th>0</th>\n",
       "      <td>0</td>\n",
       "      <td>@VirginAmerica What @dhepburn said.</td>\n",
       "    </tr>\n",
       "    <tr>\n",
       "      <th>1</th>\n",
       "      <td>2</td>\n",
       "      <td>@VirginAmerica plus you've added commercials t...</td>\n",
       "    </tr>\n",
       "    <tr>\n",
       "      <th>2</th>\n",
       "      <td>0</td>\n",
       "      <td>@VirginAmerica I didn't today... Must mean I n...</td>\n",
       "    </tr>\n",
       "    <tr>\n",
       "      <th>3</th>\n",
       "      <td>1</td>\n",
       "      <td>@VirginAmerica it's really aggressive to blast...</td>\n",
       "    </tr>\n",
       "    <tr>\n",
       "      <th>4</th>\n",
       "      <td>1</td>\n",
       "      <td>@VirginAmerica and it's a really big bad thing...</td>\n",
       "    </tr>\n",
       "    <tr>\n",
       "      <th>...</th>\n",
       "      <td>...</td>\n",
       "      <td>...</td>\n",
       "    </tr>\n",
       "    <tr>\n",
       "      <th>14635</th>\n",
       "      <td>2</td>\n",
       "      <td>@AmericanAir thank you we got on a different f...</td>\n",
       "    </tr>\n",
       "    <tr>\n",
       "      <th>14636</th>\n",
       "      <td>1</td>\n",
       "      <td>@AmericanAir leaving over 20 minutes Late Flig...</td>\n",
       "    </tr>\n",
       "    <tr>\n",
       "      <th>14637</th>\n",
       "      <td>0</td>\n",
       "      <td>@AmericanAir Please bring American Airlines to...</td>\n",
       "    </tr>\n",
       "    <tr>\n",
       "      <th>14638</th>\n",
       "      <td>1</td>\n",
       "      <td>@AmericanAir you have my money, you change my ...</td>\n",
       "    </tr>\n",
       "    <tr>\n",
       "      <th>14639</th>\n",
       "      <td>0</td>\n",
       "      <td>@AmericanAir we have 8 ppl so we need 2 know h...</td>\n",
       "    </tr>\n",
       "  </tbody>\n",
       "</table>\n",
       "<p>14640 rows × 2 columns</p>\n",
       "</div>"
      ],
      "text/plain": [
       "       airline_sentiment                                               text\n",
       "0                      0                @VirginAmerica What @dhepburn said.\n",
       "1                      2  @VirginAmerica plus you've added commercials t...\n",
       "2                      0  @VirginAmerica I didn't today... Must mean I n...\n",
       "3                      1  @VirginAmerica it's really aggressive to blast...\n",
       "4                      1  @VirginAmerica and it's a really big bad thing...\n",
       "...                  ...                                                ...\n",
       "14635                  2  @AmericanAir thank you we got on a different f...\n",
       "14636                  1  @AmericanAir leaving over 20 minutes Late Flig...\n",
       "14637                  0  @AmericanAir Please bring American Airlines to...\n",
       "14638                  1  @AmericanAir you have my money, you change my ...\n",
       "14639                  0  @AmericanAir we have 8 ppl so we need 2 know h...\n",
       "\n",
       "[14640 rows x 2 columns]"
      ]
     },
     "execution_count": 10,
     "metadata": {},
     "output_type": "execute_result"
    }
   ],
   "source": [
    "dataset"
   ]
  },
  {
   "cell_type": "code",
   "execution_count": 11,
   "metadata": {},
   "outputs": [],
   "source": [
    "model_input = tokenizer(\"My love is Shree Krishna\", return_tensors='pt')"
   ]
  },
  {
   "cell_type": "code",
   "execution_count": 12,
   "metadata": {},
   "outputs": [],
   "source": [
    "output = model(**model_input)"
   ]
  },
  {
   "cell_type": "code",
   "execution_count": 13,
   "metadata": {},
   "outputs": [
    {
     "data": {
      "text/plain": [
       "BaseModelOutputWithPoolingAndCrossAttentions(last_hidden_state=tensor([[[-0.4048,  0.1245, -0.0895,  ..., -0.4667,  0.2337,  0.5074],\n",
       "         [ 0.1067,  0.2586,  0.1721,  ..., -0.2373,  0.3169, -0.0411],\n",
       "         [ 0.2718,  0.0473,  0.8255,  ..., -0.4655,  0.4836,  0.1226],\n",
       "         ...,\n",
       "         [ 0.2828, -0.2119,  0.0163,  ..., -0.1785,  0.0063, -1.8790],\n",
       "         [-0.2487, -0.9459, -0.2390,  ...,  0.6409,  0.5393, -0.0429],\n",
       "         [ 0.8047,  0.1197, -0.1789,  ..., -0.1247, -0.7265, -0.3237]]],\n",
       "       grad_fn=<NativeLayerNormBackward0>), pooler_output=tensor([[-9.0401e-01, -4.5584e-01, -7.4374e-01,  7.9599e-01,  4.3155e-01,\n",
       "         -1.1591e-01,  8.8929e-01,  3.0189e-01, -5.0932e-01, -9.9999e-01,\n",
       "         -1.6417e-01,  8.5574e-01,  9.8759e-01,  3.9256e-01,  9.1653e-01,\n",
       "         -6.8821e-01, -3.4076e-01, -6.5066e-01,  4.5644e-01, -6.1061e-01,\n",
       "          6.9212e-01,  9.9988e-01,  3.0251e-01,  2.9379e-01,  5.0830e-01,\n",
       "          9.6958e-01, -7.5154e-01,  9.1563e-01,  9.6357e-01,  7.2483e-01,\n",
       "         -6.5209e-01,  1.7049e-01, -9.9148e-01, -1.8083e-01, -8.2403e-01,\n",
       "         -9.9562e-01,  3.9452e-01, -7.9167e-01, -5.0727e-02,  7.9532e-02,\n",
       "         -8.9867e-01,  3.5849e-01,  9.9995e-01,  6.8945e-02,  3.6531e-01,\n",
       "         -3.2938e-01, -1.0000e+00,  2.7365e-01, -8.9185e-01,  6.8793e-01,\n",
       "          6.3854e-01,  5.1147e-01,  1.6303e-01,  4.5209e-01,  4.9289e-01,\n",
       "         -5.1566e-02, -1.6633e-02,  1.8057e-01, -2.5303e-01, -5.4423e-01,\n",
       "         -6.2950e-01,  4.1603e-01, -7.6061e-01, -9.3049e-01,  5.6055e-01,\n",
       "          5.1926e-01, -1.2238e-01, -2.7865e-01, -6.8655e-02, -1.1725e-01,\n",
       "          8.7068e-01,  2.4321e-01,  9.9218e-02, -8.6640e-01,  2.8506e-01,\n",
       "          2.7603e-01, -6.2897e-01,  1.0000e+00, -5.7049e-01, -9.8090e-01,\n",
       "          7.6006e-01,  4.1802e-01,  5.2762e-01,  2.1870e-01,  2.1285e-01,\n",
       "         -1.0000e+00,  4.6764e-01, -1.4519e-01, -9.9109e-01,  2.1618e-01,\n",
       "          5.5293e-01, -1.6284e-01,  4.6770e-01,  5.6999e-01, -5.1586e-01,\n",
       "         -4.3877e-01, -3.7666e-01, -6.1043e-01, -3.7809e-01, -3.0367e-01,\n",
       "          1.4358e-01, -2.4641e-01, -2.5412e-01, -3.9588e-01,  2.5157e-01,\n",
       "         -5.1135e-01, -6.3327e-01,  6.0694e-01, -4.0071e-02,  7.2177e-01,\n",
       "          3.8886e-01, -3.6307e-01,  4.4969e-01, -9.6747e-01,  6.8578e-01,\n",
       "         -3.0793e-01, -9.8446e-01, -5.2156e-01, -9.8933e-01,  8.0484e-01,\n",
       "         -1.8819e-01, -2.6926e-01,  9.6041e-01, -7.4653e-02,  3.4568e-01,\n",
       "         -5.0928e-02, -7.0350e-01, -1.0000e+00, -6.5171e-01, -5.7731e-01,\n",
       "          1.6598e-02, -2.9789e-01, -9.8313e-01, -9.5484e-01,  6.6496e-01,\n",
       "          9.4274e-01,  1.5461e-01,  9.9983e-01, -3.1632e-01,  9.6035e-01,\n",
       "         -1.5783e-01, -6.3476e-01,  3.5259e-01, -4.5923e-01,  7.1720e-01,\n",
       "          3.5547e-01, -7.4358e-01,  1.7557e-01, -2.9205e-01,  3.3318e-01,\n",
       "         -4.6156e-01, -2.5816e-01, -4.9568e-01, -9.4947e-01, -4.0891e-01,\n",
       "          9.5796e-01, -3.7916e-01, -7.4227e-01,  2.8963e-01, -1.7688e-01,\n",
       "         -5.2597e-01,  8.6789e-01,  5.8044e-01,  4.3495e-01, -3.4261e-01,\n",
       "          4.8873e-01,  1.5295e-01,  5.6419e-01, -8.2018e-01,  6.3519e-02,\n",
       "          4.5248e-01, -3.6005e-01, -6.6829e-01, -9.8445e-01, -3.6019e-01,\n",
       "          6.1088e-01,  9.9020e-01,  7.6778e-01,  2.7331e-01,  5.8728e-01,\n",
       "         -2.4801e-01,  5.7941e-01, -9.5993e-01,  9.8005e-01, -2.6001e-01,\n",
       "          2.4963e-01, -3.2733e-01,  3.2573e-01, -8.7791e-01,  5.1686e-02,\n",
       "          8.2349e-01, -5.1364e-01, -8.5305e-01,  2.4279e-03, -5.5340e-01,\n",
       "         -3.9806e-01, -6.5650e-01,  5.8826e-01, -3.3520e-01, -4.2211e-01,\n",
       "         -8.9711e-02,  9.0768e-01,  9.7736e-01,  7.9487e-01, -1.6083e-01,\n",
       "          6.8332e-01, -9.1974e-01, -5.0399e-01,  1.1967e-01,  2.7645e-01,\n",
       "          2.9714e-01,  9.9402e-01, -5.0513e-01, -9.8325e-02, -9.3774e-01,\n",
       "         -9.8865e-01, -1.3136e-02, -8.7464e-01, -1.4381e-01, -7.2589e-01,\n",
       "          6.1155e-01,  2.9367e-02,  1.7941e-01,  4.3456e-01, -9.8669e-01,\n",
       "         -7.7392e-01,  3.9088e-01, -4.5197e-01,  5.2041e-01, -2.4936e-01,\n",
       "          7.0077e-01,  8.1945e-01, -6.7566e-01,  7.6449e-01,  9.0884e-01,\n",
       "         -8.0385e-01, -7.1465e-01,  7.8838e-01, -2.8217e-01,  8.9754e-01,\n",
       "         -6.5906e-01,  9.9325e-01,  7.6664e-01,  7.1384e-01, -9.4732e-01,\n",
       "         -4.7505e-01, -8.8519e-01, -3.8447e-01, -9.9270e-02, -1.6737e-01,\n",
       "          6.8791e-01,  5.2142e-01,  3.5671e-01,  5.0331e-01, -6.6607e-01,\n",
       "          9.9630e-01, -7.8675e-01, -9.5692e-01, -3.0858e-01, -2.6407e-01,\n",
       "         -9.9152e-01,  7.1716e-01,  2.8568e-01,  1.7252e-01, -5.0329e-01,\n",
       "         -5.6801e-01, -9.6323e-01,  9.2644e-01,  9.4886e-02,  9.8848e-01,\n",
       "         -3.1536e-01, -9.5213e-01, -6.4779e-01, -9.2924e-01, -2.1017e-01,\n",
       "         -2.1404e-01,  1.0862e-01, -1.1490e-01, -9.5131e-01,  5.1985e-01,\n",
       "          5.8787e-01,  4.6782e-01, -4.1293e-01,  9.9786e-01,  1.0000e+00,\n",
       "          9.8096e-01,  8.9708e-01,  8.9978e-01, -9.9903e-01, -4.9663e-01,\n",
       "          1.0000e+00, -9.7081e-01, -1.0000e+00, -9.2465e-01, -6.5313e-01,\n",
       "          2.4954e-01, -1.0000e+00, -7.5601e-02,  2.0451e-02, -9.4096e-01,\n",
       "          2.2858e-01,  9.8386e-01,  9.8813e-01, -1.0000e+00,  8.7762e-01,\n",
       "          9.3786e-01, -6.3475e-01,  8.6640e-01, -3.8779e-01,  9.7638e-01,\n",
       "          5.5670e-01,  3.8809e-01, -2.3437e-01,  4.6977e-01, -8.6109e-01,\n",
       "         -8.8479e-01, -2.3878e-01, -4.7913e-01,  9.9173e-01,  1.5138e-01,\n",
       "         -7.5939e-01, -9.3724e-01,  4.3092e-01, -1.1593e-01, -7.6810e-02,\n",
       "         -9.6604e-01, -2.5422e-01,  2.2151e-01,  8.1270e-01,  1.0614e-01,\n",
       "          3.4213e-01, -7.6828e-01,  2.4766e-01, -3.3392e-01,  4.2599e-01,\n",
       "          6.7947e-01, -9.5354e-01, -6.3824e-01, -1.3060e-01, -2.2705e-01,\n",
       "         -3.8989e-01, -9.4467e-01,  9.7081e-01, -4.1451e-01,  7.0833e-01,\n",
       "          1.0000e+00,  2.2836e-01, -8.9636e-01,  6.0686e-01,  2.8126e-01,\n",
       "         -5.6280e-01,  1.0000e+00,  8.0500e-01, -9.8264e-01, -5.6827e-01,\n",
       "          6.0520e-01, -5.4777e-01, -5.7720e-01,  9.9953e-01, -2.8180e-01,\n",
       "         -2.4400e-01,  6.1938e-02,  9.8371e-01, -9.9235e-01,  9.8549e-01,\n",
       "         -8.9599e-01, -9.6842e-01,  9.6099e-01,  9.3108e-01, -5.0310e-01,\n",
       "         -6.9096e-01,  1.2479e-01, -5.4805e-01,  2.8227e-01, -9.5766e-01,\n",
       "          7.1531e-01,  4.9837e-01, -1.5433e-01,  9.0765e-01, -8.4271e-01,\n",
       "         -5.4412e-01,  3.3190e-01, -2.1374e-01,  1.4636e-01,  8.1132e-01,\n",
       "          5.2473e-01, -3.3870e-01,  6.2569e-02, -2.7523e-01, -4.4743e-01,\n",
       "         -9.6810e-01,  4.8863e-01,  1.0000e+00, -2.0955e-01,  4.9421e-01,\n",
       "         -4.0204e-01, -4.5878e-02, -1.9863e-01,  5.4748e-01,  5.3737e-01,\n",
       "         -3.8553e-01, -8.6909e-01,  6.2091e-01, -9.5496e-01, -9.9070e-01,\n",
       "          6.9877e-01,  1.9582e-01, -2.7055e-01,  9.9999e-01,  4.9250e-01,\n",
       "          3.0470e-01,  2.0496e-01,  8.9712e-01,  4.0032e-02,  5.9055e-01,\n",
       "          5.3808e-01,  9.8102e-01, -2.4591e-01,  5.5902e-01,  8.0150e-01,\n",
       "         -6.0568e-01, -4.0770e-01, -7.1457e-01,  4.4631e-02, -9.2566e-01,\n",
       "          2.8595e-02, -9.6842e-01,  9.5880e-01,  7.6838e-01,  3.8418e-01,\n",
       "          2.1629e-01,  6.0862e-01,  1.0000e+00, -4.1580e-01,  6.5346e-01,\n",
       "         -4.6375e-01,  8.5022e-01, -9.9854e-01, -7.9849e-01, -4.3061e-01,\n",
       "         -4.3787e-02, -5.2682e-01, -3.3822e-01,  2.8868e-01, -9.7822e-01,\n",
       "          4.7582e-01,  5.4895e-01, -9.8366e-01, -9.9143e-01, -1.4315e-01,\n",
       "          7.7866e-01,  1.3234e-01, -9.4518e-01, -6.9417e-01, -6.1681e-01,\n",
       "          4.9741e-01, -3.6748e-01, -9.4812e-01,  1.6659e-01, -2.5700e-01,\n",
       "          4.5797e-01, -2.2092e-01,  5.7155e-01,  5.4916e-01,  7.0602e-01,\n",
       "         -4.5287e-01,  1.1602e-02,  1.4423e-02, -8.2479e-01,  8.3474e-01,\n",
       "         -8.3323e-01, -7.2667e-01, -1.7418e-01,  1.0000e+00, -5.6989e-01,\n",
       "          7.4190e-01,  7.0223e-01,  7.5087e-01, -1.9057e-01,  2.1672e-01,\n",
       "          8.3615e-01,  3.9625e-01, -4.6215e-01, -4.2894e-01, -5.8075e-01,\n",
       "         -4.2001e-01,  6.4825e-01,  1.7836e-01,  4.3609e-01,  7.9451e-01,\n",
       "          6.5027e-01,  2.6569e-01,  4.2026e-02,  4.6726e-02,  9.9913e-01,\n",
       "         -3.0611e-01, -1.7552e-01, -4.2584e-01, -8.4375e-03, -4.0591e-01,\n",
       "         -4.9423e-01,  1.0000e+00,  3.6919e-01,  3.1318e-01, -9.9316e-01,\n",
       "         -5.8915e-01, -9.1765e-01,  1.0000e+00,  8.3555e-01, -8.1890e-01,\n",
       "          6.0504e-01,  6.3954e-01, -1.4767e-01,  8.4214e-01, -2.4631e-01,\n",
       "         -1.9370e-01,  2.3573e-01,  7.5055e-02,  9.7141e-01, -5.0541e-01,\n",
       "         -9.7316e-01, -6.3118e-01,  4.3716e-01, -9.5854e-01,  9.9937e-01,\n",
       "         -5.4060e-01, -2.9021e-01, -4.9049e-01, -7.0561e-02,  4.5681e-01,\n",
       "          1.4067e-02, -9.8571e-01, -2.1946e-01,  1.9736e-01,  9.7100e-01,\n",
       "          2.4942e-01, -5.5973e-01, -8.6287e-01,  4.7309e-01,  4.7337e-01,\n",
       "         -6.4781e-01, -9.5874e-01,  9.7684e-01, -9.8513e-01,  5.9111e-01,\n",
       "          1.0000e+00,  3.3973e-01, -3.8028e-01,  2.6740e-01, -3.9220e-01,\n",
       "          2.3295e-01, -3.4712e-01,  5.5936e-01, -9.5319e-01, -3.9182e-01,\n",
       "         -1.8704e-01,  3.7496e-01, -1.4584e-01, -2.0538e-01,  7.1543e-01,\n",
       "          2.3918e-01, -5.2238e-01, -6.2726e-01, -8.4970e-02,  4.2734e-01,\n",
       "          7.8099e-01, -2.9136e-01, -1.0742e-01,  1.2185e-01, -2.3444e-02,\n",
       "         -9.4097e-01, -3.5961e-01, -4.2793e-01, -9.9995e-01,  6.4432e-01,\n",
       "         -1.0000e+00,  2.0738e-01, -4.0374e-02, -2.5109e-01,  7.8686e-01,\n",
       "          3.0128e-01,  4.4205e-01, -7.6353e-01, -5.1424e-01,  7.3197e-01,\n",
       "          7.9990e-01, -3.5534e-01, -2.5605e-01, -7.6349e-01,  3.3304e-01,\n",
       "         -1.4773e-01,  3.4935e-01, -4.3946e-01,  7.3826e-01, -1.1276e-01,\n",
       "          1.0000e+00,  8.7452e-02, -6.7974e-01, -9.7593e-01,  2.5510e-01,\n",
       "         -2.5303e-01,  1.0000e+00, -8.9578e-01, -9.4825e-01,  4.2702e-01,\n",
       "         -6.7386e-01, -8.3316e-01,  3.3626e-01, -1.7487e-04, -7.5299e-01,\n",
       "         -7.9973e-01,  9.3466e-01,  8.6274e-01, -5.4003e-01,  5.1294e-01,\n",
       "         -3.7735e-01, -5.1645e-01,  7.8295e-02,  6.5319e-01,  9.8931e-01,\n",
       "          3.5939e-01,  8.9363e-01,  4.2639e-02, -3.2537e-01,  9.5517e-01,\n",
       "          3.3623e-01,  5.6306e-01,  1.8444e-01,  1.0000e+00,  3.4424e-01,\n",
       "         -9.2596e-01,  1.1133e-01, -9.7850e-01, -2.1443e-01, -9.4602e-01,\n",
       "          3.0667e-01,  8.0905e-02,  9.0713e-01, -2.5332e-01,  9.6606e-01,\n",
       "         -3.9412e-01,  1.1008e-01, -3.6342e-01, -1.1947e-01,  3.4167e-01,\n",
       "         -9.3428e-01, -9.8930e-01, -9.8985e-01,  6.2323e-01, -4.1607e-01,\n",
       "         -3.8617e-02,  2.9782e-01,  2.0028e-01,  3.8694e-01,  3.9582e-01,\n",
       "         -1.0000e+00,  9.4266e-01,  4.9032e-01,  6.8158e-01,  9.6851e-01,\n",
       "          6.6308e-01,  4.7573e-01,  2.5421e-01, -9.8624e-01, -9.7242e-01,\n",
       "         -3.8338e-01, -3.2452e-01,  8.1103e-01,  7.1091e-01,  8.3792e-01,\n",
       "          4.5143e-01, -5.2201e-01, -3.7294e-01, -2.5421e-01, -6.6695e-01,\n",
       "         -9.9377e-01,  4.6274e-01, -1.7918e-01, -9.5744e-01,  9.6129e-01,\n",
       "         -2.9755e-01, -1.5746e-01,  1.9205e-01, -6.1786e-01,  9.3319e-01,\n",
       "          7.9597e-01,  5.6360e-01,  1.3482e-01,  4.6168e-01,  9.1030e-01,\n",
       "          9.4881e-01,  9.9167e-01, -6.5231e-01,  8.1776e-01, -4.2218e-01,\n",
       "          4.7200e-01,  7.4686e-01, -9.5436e-01,  1.4535e-01,  2.9354e-01,\n",
       "         -3.4100e-01,  3.7078e-01, -2.0724e-01, -9.6273e-01,  6.4635e-01,\n",
       "         -3.9354e-01,  5.6084e-01, -4.5639e-01,  5.0502e-02, -5.0835e-01,\n",
       "         -1.3130e-01, -7.6972e-01, -6.3098e-01,  6.4959e-01,  4.5598e-01,\n",
       "          9.0844e-01,  7.7316e-01, -8.7787e-02, -7.4643e-01, -1.8785e-01,\n",
       "         -3.9572e-01, -9.3714e-01,  9.2546e-01, -1.3575e-01, -9.4408e-02,\n",
       "          4.1117e-01,  6.1861e-03,  8.1212e-01,  2.1839e-02, -4.2926e-01,\n",
       "         -3.2820e-01, -7.7772e-01,  8.9047e-01, -3.7956e-01, -5.4878e-01,\n",
       "         -5.8786e-01,  7.4506e-01,  3.4643e-01,  9.9992e-01, -4.8384e-01,\n",
       "         -6.6984e-01, -4.1218e-01, -3.1483e-01,  3.9959e-01, -3.5510e-01,\n",
       "         -1.0000e+00,  4.4886e-01, -2.9499e-01,  6.1952e-01, -4.7790e-01,\n",
       "          5.9586e-01, -4.2774e-01, -9.7526e-01, -2.7120e-01,  3.4299e-01,\n",
       "          4.0361e-01, -5.3711e-01, -5.4257e-01,  5.3901e-01, -1.6556e-02,\n",
       "          8.7875e-01,  8.7339e-01, -3.1629e-02,  4.8647e-01,  6.5740e-01,\n",
       "         -5.5170e-01, -7.3572e-01,  8.9863e-01]], grad_fn=<TanhBackward0>), hidden_states=None, past_key_values=None, attentions=None, cross_attentions=None)"
      ]
     },
     "execution_count": 13,
     "metadata": {},
     "output_type": "execute_result"
    }
   ],
   "source": [
    "output"
   ]
  },
  {
   "cell_type": "code",
   "execution_count": null,
   "metadata": {},
   "outputs": [],
   "source": []
  },
  {
   "cell_type": "code",
   "execution_count": 14,
   "metadata": {},
   "outputs": [],
   "source": [
    "x_train = dataset['text'].tolist()\n",
    "y_train = dataset['airline_sentiment'].tolist()"
   ]
  },
  {
   "cell_type": "code",
   "execution_count": 15,
   "metadata": {},
   "outputs": [],
   "source": [
    "# tokenized_x_train = [tokenizer(i,return_tensors = 'np',padding = True) for i in x_train]\n",
    "\n",
    "tokenized_x_train = tokenizer(x_train,return_tensors='tf',padding =True)\n",
    "tokenized_x_train = dict(tokenized_x_train)"
   ]
  },
  {
   "cell_type": "code",
   "execution_count": 16,
   "metadata": {},
   "outputs": [
    {
     "data": {
      "text/plain": [
       "{'input_ids': <tf.Tensor: shape=(14640, 67), dtype=int32, numpy=\n",
       " array([[  101,  1030,  6261, ...,     0,     0,     0],\n",
       "        [  101,  1030,  6261, ...,     0,     0,     0],\n",
       "        [  101,  1030,  6261, ...,     0,     0,     0],\n",
       "        ...,\n",
       "        [  101,  1030, 25988, ...,     0,     0,     0],\n",
       "        [  101,  1030, 25988, ...,     0,     0,     0],\n",
       "        [  101,  1030, 25988, ...,     0,     0,     0]], dtype=int32)>,\n",
       " 'token_type_ids': <tf.Tensor: shape=(14640, 67), dtype=int32, numpy=\n",
       " array([[0, 0, 0, ..., 0, 0, 0],\n",
       "        [0, 0, 0, ..., 0, 0, 0],\n",
       "        [0, 0, 0, ..., 0, 0, 0],\n",
       "        ...,\n",
       "        [0, 0, 0, ..., 0, 0, 0],\n",
       "        [0, 0, 0, ..., 0, 0, 0],\n",
       "        [0, 0, 0, ..., 0, 0, 0]], dtype=int32)>,\n",
       " 'attention_mask': <tf.Tensor: shape=(14640, 67), dtype=int32, numpy=\n",
       " array([[1, 1, 1, ..., 0, 0, 0],\n",
       "        [1, 1, 1, ..., 0, 0, 0],\n",
       "        [1, 1, 1, ..., 0, 0, 0],\n",
       "        ...,\n",
       "        [1, 1, 1, ..., 0, 0, 0],\n",
       "        [1, 1, 1, ..., 0, 0, 0],\n",
       "        [1, 1, 1, ..., 0, 0, 0]], dtype=int32)>}"
      ]
     },
     "execution_count": 16,
     "metadata": {},
     "output_type": "execute_result"
    }
   ],
   "source": [
    "tokenized_x_train"
   ]
  },
  {
   "cell_type": "code",
   "execution_count": 17,
   "metadata": {},
   "outputs": [
    {
     "name": "stdout",
     "output_type": "stream",
     "text": [
      "WARNING:tensorflow:From c:\\Users\\gkart\\AppData\\Local\\Programs\\Python\\Python311\\Lib\\site-packages\\tf_keras\\src\\losses.py:2976: The name tf.losses.sparse_softmax_cross_entropy is deprecated. Please use tf.compat.v1.losses.sparse_softmax_cross_entropy instead.\n",
      "\n",
      "WARNING:tensorflow:From c:\\Users\\gkart\\AppData\\Local\\Programs\\Python\\Python311\\Lib\\site-packages\\tf_keras\\src\\backend.py:873: The name tf.get_default_graph is deprecated. Please use tf.compat.v1.get_default_graph instead.\n",
      "\n"
     ]
    },
    {
     "name": "stderr",
     "output_type": "stream",
     "text": [
      "All PyTorch model weights were used when initializing TFBertForSequenceClassification.\n",
      "\n",
      "Some weights or buffers of the TF 2.0 model TFBertForSequenceClassification were not initialized from the PyTorch model and are newly initialized: ['classifier.weight', 'classifier.bias']\n",
      "You should probably TRAIN this model on a down-stream task to be able to use it for predictions and inference.\n"
     ]
    },
    {
     "name": "stdout",
     "output_type": "stream",
     "text": [
      "WARNING:tensorflow:From c:\\Users\\gkart\\AppData\\Local\\Programs\\Python\\Python311\\Lib\\site-packages\\tf_keras\\src\\optimizers\\__init__.py:317: The name tf.train.Optimizer is deprecated. Please use tf.compat.v1.train.Optimizer instead.\n",
      "\n"
     ]
    }
   ],
   "source": [
    "from transformers import TFAutoModelForSequenceClassification\n",
    "from tensorflow.keras.optimizers import Adam\n",
    "\n",
    "model = TFAutoModelForSequenceClassification.from_pretrained(model_path,num_labels = 3)\n",
    "model.compile()"
   ]
  },
  {
   "cell_type": "code",
   "execution_count": 19,
   "metadata": {},
   "outputs": [
    {
     "name": "stdout",
     "output_type": "stream",
     "text": [
      "WARNING:tensorflow:From c:\\Users\\gkart\\AppData\\Local\\Programs\\Python\\Python311\\Lib\\site-packages\\tf_keras\\src\\utils\\tf_utils.py:492: The name tf.ragged.RaggedTensorValue is deprecated. Please use tf.compat.v1.ragged.RaggedTensorValue instead.\n",
      "\n",
      " 172/3660 [>.............................] - ETA: 31:20 - loss: 1.1573"
     ]
    },
    {
     "ename": "KeyboardInterrupt",
     "evalue": "",
     "output_type": "error",
     "traceback": [
      "\u001b[1;31m---------------------------------------------------------------------------\u001b[0m",
      "\u001b[1;31mKeyboardInterrupt\u001b[0m                         Traceback (most recent call last)",
      "Cell \u001b[1;32mIn[19], line 1\u001b[0m\n\u001b[1;32m----> 1\u001b[0m \u001b[43mmodel\u001b[49m\u001b[38;5;241;43m.\u001b[39;49m\u001b[43mfit\u001b[49m\u001b[43m(\u001b[49m\u001b[43mtokenized_x_train\u001b[49m\u001b[43m,\u001b[49m\u001b[43my_train\u001b[49m\u001b[43m,\u001b[49m\u001b[43mbatch_size\u001b[49m\u001b[43m \u001b[49m\u001b[38;5;241;43m=\u001b[39;49m\u001b[43m \u001b[49m\u001b[38;5;241;43m4\u001b[39;49m\u001b[43m)\u001b[49m\n",
      "File \u001b[1;32mc:\\Users\\gkart\\AppData\\Local\\Programs\\Python\\Python311\\Lib\\site-packages\\transformers\\modeling_tf_utils.py:1229\u001b[0m, in \u001b[0;36mTFPreTrainedModel.fit\u001b[1;34m(self, *args, **kwargs)\u001b[0m\n\u001b[0;32m   1226\u001b[0m \u001b[38;5;129m@functools\u001b[39m\u001b[38;5;241m.\u001b[39mwraps(keras\u001b[38;5;241m.\u001b[39mModel\u001b[38;5;241m.\u001b[39mfit)\n\u001b[0;32m   1227\u001b[0m \u001b[38;5;28;01mdef\u001b[39;00m\u001b[38;5;250m \u001b[39m\u001b[38;5;21mfit\u001b[39m(\u001b[38;5;28mself\u001b[39m, \u001b[38;5;241m*\u001b[39margs, \u001b[38;5;241m*\u001b[39m\u001b[38;5;241m*\u001b[39mkwargs):\n\u001b[0;32m   1228\u001b[0m     args, kwargs \u001b[38;5;241m=\u001b[39m convert_batch_encoding(\u001b[38;5;241m*\u001b[39margs, \u001b[38;5;241m*\u001b[39m\u001b[38;5;241m*\u001b[39mkwargs)\n\u001b[1;32m-> 1229\u001b[0m     \u001b[38;5;28;01mreturn\u001b[39;00m \u001b[38;5;28;43msuper\u001b[39;49m\u001b[43m(\u001b[49m\u001b[43m)\u001b[49m\u001b[38;5;241;43m.\u001b[39;49m\u001b[43mfit\u001b[49m\u001b[43m(\u001b[49m\u001b[38;5;241;43m*\u001b[39;49m\u001b[43margs\u001b[49m\u001b[43m,\u001b[49m\u001b[43m \u001b[49m\u001b[38;5;241;43m*\u001b[39;49m\u001b[38;5;241;43m*\u001b[39;49m\u001b[43mkwargs\u001b[49m\u001b[43m)\u001b[49m\n",
      "File \u001b[1;32mc:\\Users\\gkart\\AppData\\Local\\Programs\\Python\\Python311\\Lib\\site-packages\\tf_keras\\src\\utils\\traceback_utils.py:65\u001b[0m, in \u001b[0;36mfilter_traceback.<locals>.error_handler\u001b[1;34m(*args, **kwargs)\u001b[0m\n\u001b[0;32m     63\u001b[0m filtered_tb \u001b[38;5;241m=\u001b[39m \u001b[38;5;28;01mNone\u001b[39;00m\n\u001b[0;32m     64\u001b[0m \u001b[38;5;28;01mtry\u001b[39;00m:\n\u001b[1;32m---> 65\u001b[0m     \u001b[38;5;28;01mreturn\u001b[39;00m \u001b[43mfn\u001b[49m\u001b[43m(\u001b[49m\u001b[38;5;241;43m*\u001b[39;49m\u001b[43margs\u001b[49m\u001b[43m,\u001b[49m\u001b[43m \u001b[49m\u001b[38;5;241;43m*\u001b[39;49m\u001b[38;5;241;43m*\u001b[39;49m\u001b[43mkwargs\u001b[49m\u001b[43m)\u001b[49m\n\u001b[0;32m     66\u001b[0m \u001b[38;5;28;01mexcept\u001b[39;00m \u001b[38;5;167;01mException\u001b[39;00m \u001b[38;5;28;01mas\u001b[39;00m e:\n\u001b[0;32m     67\u001b[0m     filtered_tb \u001b[38;5;241m=\u001b[39m _process_traceback_frames(e\u001b[38;5;241m.\u001b[39m__traceback__)\n",
      "File \u001b[1;32mc:\\Users\\gkart\\AppData\\Local\\Programs\\Python\\Python311\\Lib\\site-packages\\tf_keras\\src\\engine\\training.py:1804\u001b[0m, in \u001b[0;36mModel.fit\u001b[1;34m(self, x, y, batch_size, epochs, verbose, callbacks, validation_split, validation_data, shuffle, class_weight, sample_weight, initial_epoch, steps_per_epoch, validation_steps, validation_batch_size, validation_freq, max_queue_size, workers, use_multiprocessing)\u001b[0m\n\u001b[0;32m   1796\u001b[0m \u001b[38;5;28;01mwith\u001b[39;00m tf\u001b[38;5;241m.\u001b[39mprofiler\u001b[38;5;241m.\u001b[39mexperimental\u001b[38;5;241m.\u001b[39mTrace(\n\u001b[0;32m   1797\u001b[0m     \u001b[38;5;124m\"\u001b[39m\u001b[38;5;124mtrain\u001b[39m\u001b[38;5;124m\"\u001b[39m,\n\u001b[0;32m   1798\u001b[0m     epoch_num\u001b[38;5;241m=\u001b[39mepoch,\n\u001b[1;32m   (...)\u001b[0m\n\u001b[0;32m   1801\u001b[0m     _r\u001b[38;5;241m=\u001b[39m\u001b[38;5;241m1\u001b[39m,\n\u001b[0;32m   1802\u001b[0m ):\n\u001b[0;32m   1803\u001b[0m     callbacks\u001b[38;5;241m.\u001b[39mon_train_batch_begin(step)\n\u001b[1;32m-> 1804\u001b[0m     tmp_logs \u001b[38;5;241m=\u001b[39m \u001b[38;5;28;43mself\u001b[39;49m\u001b[38;5;241;43m.\u001b[39;49m\u001b[43mtrain_function\u001b[49m\u001b[43m(\u001b[49m\u001b[43miterator\u001b[49m\u001b[43m)\u001b[49m\n\u001b[0;32m   1805\u001b[0m     \u001b[38;5;28;01mif\u001b[39;00m data_handler\u001b[38;5;241m.\u001b[39mshould_sync:\n\u001b[0;32m   1806\u001b[0m         context\u001b[38;5;241m.\u001b[39masync_wait()\n",
      "File \u001b[1;32mc:\\Users\\gkart\\AppData\\Local\\Programs\\Python\\Python311\\Lib\\site-packages\\tensorflow\\python\\util\\traceback_utils.py:150\u001b[0m, in \u001b[0;36mfilter_traceback.<locals>.error_handler\u001b[1;34m(*args, **kwargs)\u001b[0m\n\u001b[0;32m    148\u001b[0m filtered_tb \u001b[38;5;241m=\u001b[39m \u001b[38;5;28;01mNone\u001b[39;00m\n\u001b[0;32m    149\u001b[0m \u001b[38;5;28;01mtry\u001b[39;00m:\n\u001b[1;32m--> 150\u001b[0m   \u001b[38;5;28;01mreturn\u001b[39;00m \u001b[43mfn\u001b[49m\u001b[43m(\u001b[49m\u001b[38;5;241;43m*\u001b[39;49m\u001b[43margs\u001b[49m\u001b[43m,\u001b[49m\u001b[43m \u001b[49m\u001b[38;5;241;43m*\u001b[39;49m\u001b[38;5;241;43m*\u001b[39;49m\u001b[43mkwargs\u001b[49m\u001b[43m)\u001b[49m\n\u001b[0;32m    151\u001b[0m \u001b[38;5;28;01mexcept\u001b[39;00m \u001b[38;5;167;01mException\u001b[39;00m \u001b[38;5;28;01mas\u001b[39;00m e:\n\u001b[0;32m    152\u001b[0m   filtered_tb \u001b[38;5;241m=\u001b[39m _process_traceback_frames(e\u001b[38;5;241m.\u001b[39m__traceback__)\n",
      "File \u001b[1;32mc:\\Users\\gkart\\AppData\\Local\\Programs\\Python\\Python311\\Lib\\site-packages\\tensorflow\\python\\eager\\polymorphic_function\\polymorphic_function.py:833\u001b[0m, in \u001b[0;36mFunction.__call__\u001b[1;34m(self, *args, **kwds)\u001b[0m\n\u001b[0;32m    830\u001b[0m compiler \u001b[38;5;241m=\u001b[39m \u001b[38;5;124m\"\u001b[39m\u001b[38;5;124mxla\u001b[39m\u001b[38;5;124m\"\u001b[39m \u001b[38;5;28;01mif\u001b[39;00m \u001b[38;5;28mself\u001b[39m\u001b[38;5;241m.\u001b[39m_jit_compile \u001b[38;5;28;01melse\u001b[39;00m \u001b[38;5;124m\"\u001b[39m\u001b[38;5;124mnonXla\u001b[39m\u001b[38;5;124m\"\u001b[39m\n\u001b[0;32m    832\u001b[0m \u001b[38;5;28;01mwith\u001b[39;00m OptionalXlaContext(\u001b[38;5;28mself\u001b[39m\u001b[38;5;241m.\u001b[39m_jit_compile):\n\u001b[1;32m--> 833\u001b[0m   result \u001b[38;5;241m=\u001b[39m \u001b[38;5;28;43mself\u001b[39;49m\u001b[38;5;241;43m.\u001b[39;49m\u001b[43m_call\u001b[49m\u001b[43m(\u001b[49m\u001b[38;5;241;43m*\u001b[39;49m\u001b[43margs\u001b[49m\u001b[43m,\u001b[49m\u001b[43m \u001b[49m\u001b[38;5;241;43m*\u001b[39;49m\u001b[38;5;241;43m*\u001b[39;49m\u001b[43mkwds\u001b[49m\u001b[43m)\u001b[49m\n\u001b[0;32m    835\u001b[0m new_tracing_count \u001b[38;5;241m=\u001b[39m \u001b[38;5;28mself\u001b[39m\u001b[38;5;241m.\u001b[39mexperimental_get_tracing_count()\n\u001b[0;32m    836\u001b[0m without_tracing \u001b[38;5;241m=\u001b[39m (tracing_count \u001b[38;5;241m==\u001b[39m new_tracing_count)\n",
      "File \u001b[1;32mc:\\Users\\gkart\\AppData\\Local\\Programs\\Python\\Python311\\Lib\\site-packages\\tensorflow\\python\\eager\\polymorphic_function\\polymorphic_function.py:869\u001b[0m, in \u001b[0;36mFunction._call\u001b[1;34m(self, *args, **kwds)\u001b[0m\n\u001b[0;32m    866\u001b[0m   \u001b[38;5;28mself\u001b[39m\u001b[38;5;241m.\u001b[39m_lock\u001b[38;5;241m.\u001b[39mrelease()\n\u001b[0;32m    867\u001b[0m   \u001b[38;5;66;03m# In this case we have created variables on the first call, so we run the\u001b[39;00m\n\u001b[0;32m    868\u001b[0m   \u001b[38;5;66;03m# defunned version which is guaranteed to never create variables.\u001b[39;00m\n\u001b[1;32m--> 869\u001b[0m   \u001b[38;5;28;01mreturn\u001b[39;00m \u001b[43mtracing_compilation\u001b[49m\u001b[38;5;241;43m.\u001b[39;49m\u001b[43mcall_function\u001b[49m\u001b[43m(\u001b[49m\n\u001b[0;32m    870\u001b[0m \u001b[43m      \u001b[49m\u001b[43margs\u001b[49m\u001b[43m,\u001b[49m\u001b[43m \u001b[49m\u001b[43mkwds\u001b[49m\u001b[43m,\u001b[49m\u001b[43m \u001b[49m\u001b[38;5;28;43mself\u001b[39;49m\u001b[38;5;241;43m.\u001b[39;49m\u001b[43m_no_variable_creation_config\u001b[49m\n\u001b[0;32m    871\u001b[0m \u001b[43m  \u001b[49m\u001b[43m)\u001b[49m\n\u001b[0;32m    872\u001b[0m \u001b[38;5;28;01melif\u001b[39;00m \u001b[38;5;28mself\u001b[39m\u001b[38;5;241m.\u001b[39m_variable_creation_config \u001b[38;5;129;01mis\u001b[39;00m \u001b[38;5;129;01mnot\u001b[39;00m \u001b[38;5;28;01mNone\u001b[39;00m:\n\u001b[0;32m    873\u001b[0m   \u001b[38;5;66;03m# Release the lock early so that multiple threads can perform the call\u001b[39;00m\n\u001b[0;32m    874\u001b[0m   \u001b[38;5;66;03m# in parallel.\u001b[39;00m\n\u001b[0;32m    875\u001b[0m   \u001b[38;5;28mself\u001b[39m\u001b[38;5;241m.\u001b[39m_lock\u001b[38;5;241m.\u001b[39mrelease()\n",
      "File \u001b[1;32mc:\\Users\\gkart\\AppData\\Local\\Programs\\Python\\Python311\\Lib\\site-packages\\tensorflow\\python\\eager\\polymorphic_function\\tracing_compilation.py:139\u001b[0m, in \u001b[0;36mcall_function\u001b[1;34m(args, kwargs, tracing_options)\u001b[0m\n\u001b[0;32m    137\u001b[0m bound_args \u001b[38;5;241m=\u001b[39m function\u001b[38;5;241m.\u001b[39mfunction_type\u001b[38;5;241m.\u001b[39mbind(\u001b[38;5;241m*\u001b[39margs, \u001b[38;5;241m*\u001b[39m\u001b[38;5;241m*\u001b[39mkwargs)\n\u001b[0;32m    138\u001b[0m flat_inputs \u001b[38;5;241m=\u001b[39m function\u001b[38;5;241m.\u001b[39mfunction_type\u001b[38;5;241m.\u001b[39munpack_inputs(bound_args)\n\u001b[1;32m--> 139\u001b[0m \u001b[38;5;28;01mreturn\u001b[39;00m \u001b[43mfunction\u001b[49m\u001b[38;5;241;43m.\u001b[39;49m\u001b[43m_call_flat\u001b[49m\u001b[43m(\u001b[49m\u001b[43m  \u001b[49m\u001b[38;5;66;43;03m# pylint: disable=protected-access\u001b[39;49;00m\n\u001b[0;32m    140\u001b[0m \u001b[43m    \u001b[49m\u001b[43mflat_inputs\u001b[49m\u001b[43m,\u001b[49m\u001b[43m \u001b[49m\u001b[43mcaptured_inputs\u001b[49m\u001b[38;5;241;43m=\u001b[39;49m\u001b[43mfunction\u001b[49m\u001b[38;5;241;43m.\u001b[39;49m\u001b[43mcaptured_inputs\u001b[49m\n\u001b[0;32m    141\u001b[0m \u001b[43m\u001b[49m\u001b[43m)\u001b[49m\n",
      "File \u001b[1;32mc:\\Users\\gkart\\AppData\\Local\\Programs\\Python\\Python311\\Lib\\site-packages\\tensorflow\\python\\eager\\polymorphic_function\\concrete_function.py:1322\u001b[0m, in \u001b[0;36mConcreteFunction._call_flat\u001b[1;34m(self, tensor_inputs, captured_inputs)\u001b[0m\n\u001b[0;32m   1318\u001b[0m possible_gradient_type \u001b[38;5;241m=\u001b[39m gradients_util\u001b[38;5;241m.\u001b[39mPossibleTapeGradientTypes(args)\n\u001b[0;32m   1319\u001b[0m \u001b[38;5;28;01mif\u001b[39;00m (possible_gradient_type \u001b[38;5;241m==\u001b[39m gradients_util\u001b[38;5;241m.\u001b[39mPOSSIBLE_GRADIENT_TYPES_NONE\n\u001b[0;32m   1320\u001b[0m     \u001b[38;5;129;01mand\u001b[39;00m executing_eagerly):\n\u001b[0;32m   1321\u001b[0m   \u001b[38;5;66;03m# No tape is watching; skip to running the function.\u001b[39;00m\n\u001b[1;32m-> 1322\u001b[0m   \u001b[38;5;28;01mreturn\u001b[39;00m \u001b[38;5;28;43mself\u001b[39;49m\u001b[38;5;241;43m.\u001b[39;49m\u001b[43m_inference_function\u001b[49m\u001b[38;5;241;43m.\u001b[39;49m\u001b[43mcall_preflattened\u001b[49m\u001b[43m(\u001b[49m\u001b[43margs\u001b[49m\u001b[43m)\u001b[49m\n\u001b[0;32m   1323\u001b[0m forward_backward \u001b[38;5;241m=\u001b[39m \u001b[38;5;28mself\u001b[39m\u001b[38;5;241m.\u001b[39m_select_forward_and_backward_functions(\n\u001b[0;32m   1324\u001b[0m     args,\n\u001b[0;32m   1325\u001b[0m     possible_gradient_type,\n\u001b[0;32m   1326\u001b[0m     executing_eagerly)\n\u001b[0;32m   1327\u001b[0m forward_function, args_with_tangents \u001b[38;5;241m=\u001b[39m forward_backward\u001b[38;5;241m.\u001b[39mforward()\n",
      "File \u001b[1;32mc:\\Users\\gkart\\AppData\\Local\\Programs\\Python\\Python311\\Lib\\site-packages\\tensorflow\\python\\eager\\polymorphic_function\\atomic_function.py:216\u001b[0m, in \u001b[0;36mAtomicFunction.call_preflattened\u001b[1;34m(self, args)\u001b[0m\n\u001b[0;32m    214\u001b[0m \u001b[38;5;28;01mdef\u001b[39;00m\u001b[38;5;250m \u001b[39m\u001b[38;5;21mcall_preflattened\u001b[39m(\u001b[38;5;28mself\u001b[39m, args: Sequence[core\u001b[38;5;241m.\u001b[39mTensor]) \u001b[38;5;241m-\u001b[39m\u001b[38;5;241m>\u001b[39m Any:\n\u001b[0;32m    215\u001b[0m \u001b[38;5;250m  \u001b[39m\u001b[38;5;124;03m\"\"\"Calls with flattened tensor inputs and returns the structured output.\"\"\"\u001b[39;00m\n\u001b[1;32m--> 216\u001b[0m   flat_outputs \u001b[38;5;241m=\u001b[39m \u001b[38;5;28;43mself\u001b[39;49m\u001b[38;5;241;43m.\u001b[39;49m\u001b[43mcall_flat\u001b[49m\u001b[43m(\u001b[49m\u001b[38;5;241;43m*\u001b[39;49m\u001b[43margs\u001b[49m\u001b[43m)\u001b[49m\n\u001b[0;32m    217\u001b[0m   \u001b[38;5;28;01mreturn\u001b[39;00m \u001b[38;5;28mself\u001b[39m\u001b[38;5;241m.\u001b[39mfunction_type\u001b[38;5;241m.\u001b[39mpack_output(flat_outputs)\n",
      "File \u001b[1;32mc:\\Users\\gkart\\AppData\\Local\\Programs\\Python\\Python311\\Lib\\site-packages\\tensorflow\\python\\eager\\polymorphic_function\\atomic_function.py:251\u001b[0m, in \u001b[0;36mAtomicFunction.call_flat\u001b[1;34m(self, *args)\u001b[0m\n\u001b[0;32m    249\u001b[0m \u001b[38;5;28;01mwith\u001b[39;00m record\u001b[38;5;241m.\u001b[39mstop_recording():\n\u001b[0;32m    250\u001b[0m   \u001b[38;5;28;01mif\u001b[39;00m \u001b[38;5;28mself\u001b[39m\u001b[38;5;241m.\u001b[39m_bound_context\u001b[38;5;241m.\u001b[39mexecuting_eagerly():\n\u001b[1;32m--> 251\u001b[0m     outputs \u001b[38;5;241m=\u001b[39m \u001b[38;5;28;43mself\u001b[39;49m\u001b[38;5;241;43m.\u001b[39;49m\u001b[43m_bound_context\u001b[49m\u001b[38;5;241;43m.\u001b[39;49m\u001b[43mcall_function\u001b[49m\u001b[43m(\u001b[49m\n\u001b[0;32m    252\u001b[0m \u001b[43m        \u001b[49m\u001b[38;5;28;43mself\u001b[39;49m\u001b[38;5;241;43m.\u001b[39;49m\u001b[43mname\u001b[49m\u001b[43m,\u001b[49m\n\u001b[0;32m    253\u001b[0m \u001b[43m        \u001b[49m\u001b[38;5;28;43mlist\u001b[39;49m\u001b[43m(\u001b[49m\u001b[43margs\u001b[49m\u001b[43m)\u001b[49m\u001b[43m,\u001b[49m\n\u001b[0;32m    254\u001b[0m \u001b[43m        \u001b[49m\u001b[38;5;28;43mlen\u001b[39;49m\u001b[43m(\u001b[49m\u001b[38;5;28;43mself\u001b[39;49m\u001b[38;5;241;43m.\u001b[39;49m\u001b[43mfunction_type\u001b[49m\u001b[38;5;241;43m.\u001b[39;49m\u001b[43mflat_outputs\u001b[49m\u001b[43m)\u001b[49m\u001b[43m,\u001b[49m\n\u001b[0;32m    255\u001b[0m \u001b[43m    \u001b[49m\u001b[43m)\u001b[49m\n\u001b[0;32m    256\u001b[0m   \u001b[38;5;28;01melse\u001b[39;00m:\n\u001b[0;32m    257\u001b[0m     outputs \u001b[38;5;241m=\u001b[39m make_call_op_in_graph(\n\u001b[0;32m    258\u001b[0m         \u001b[38;5;28mself\u001b[39m,\n\u001b[0;32m    259\u001b[0m         \u001b[38;5;28mlist\u001b[39m(args),\n\u001b[0;32m    260\u001b[0m         \u001b[38;5;28mself\u001b[39m\u001b[38;5;241m.\u001b[39m_bound_context\u001b[38;5;241m.\u001b[39mfunction_call_options\u001b[38;5;241m.\u001b[39mas_attrs(),\n\u001b[0;32m    261\u001b[0m     )\n",
      "File \u001b[1;32mc:\\Users\\gkart\\AppData\\Local\\Programs\\Python\\Python311\\Lib\\site-packages\\tensorflow\\python\\eager\\context.py:1683\u001b[0m, in \u001b[0;36mContext.call_function\u001b[1;34m(self, name, tensor_inputs, num_outputs)\u001b[0m\n\u001b[0;32m   1681\u001b[0m cancellation_context \u001b[38;5;241m=\u001b[39m cancellation\u001b[38;5;241m.\u001b[39mcontext()\n\u001b[0;32m   1682\u001b[0m \u001b[38;5;28;01mif\u001b[39;00m cancellation_context \u001b[38;5;129;01mis\u001b[39;00m \u001b[38;5;28;01mNone\u001b[39;00m:\n\u001b[1;32m-> 1683\u001b[0m   outputs \u001b[38;5;241m=\u001b[39m \u001b[43mexecute\u001b[49m\u001b[38;5;241;43m.\u001b[39;49m\u001b[43mexecute\u001b[49m\u001b[43m(\u001b[49m\n\u001b[0;32m   1684\u001b[0m \u001b[43m      \u001b[49m\u001b[43mname\u001b[49m\u001b[38;5;241;43m.\u001b[39;49m\u001b[43mdecode\u001b[49m\u001b[43m(\u001b[49m\u001b[38;5;124;43m\"\u001b[39;49m\u001b[38;5;124;43mutf-8\u001b[39;49m\u001b[38;5;124;43m\"\u001b[39;49m\u001b[43m)\u001b[49m\u001b[43m,\u001b[49m\n\u001b[0;32m   1685\u001b[0m \u001b[43m      \u001b[49m\u001b[43mnum_outputs\u001b[49m\u001b[38;5;241;43m=\u001b[39;49m\u001b[43mnum_outputs\u001b[49m\u001b[43m,\u001b[49m\n\u001b[0;32m   1686\u001b[0m \u001b[43m      \u001b[49m\u001b[43minputs\u001b[49m\u001b[38;5;241;43m=\u001b[39;49m\u001b[43mtensor_inputs\u001b[49m\u001b[43m,\u001b[49m\n\u001b[0;32m   1687\u001b[0m \u001b[43m      \u001b[49m\u001b[43mattrs\u001b[49m\u001b[38;5;241;43m=\u001b[39;49m\u001b[43mattrs\u001b[49m\u001b[43m,\u001b[49m\n\u001b[0;32m   1688\u001b[0m \u001b[43m      \u001b[49m\u001b[43mctx\u001b[49m\u001b[38;5;241;43m=\u001b[39;49m\u001b[38;5;28;43mself\u001b[39;49m\u001b[43m,\u001b[49m\n\u001b[0;32m   1689\u001b[0m \u001b[43m  \u001b[49m\u001b[43m)\u001b[49m\n\u001b[0;32m   1690\u001b[0m \u001b[38;5;28;01melse\u001b[39;00m:\n\u001b[0;32m   1691\u001b[0m   outputs \u001b[38;5;241m=\u001b[39m execute\u001b[38;5;241m.\u001b[39mexecute_with_cancellation(\n\u001b[0;32m   1692\u001b[0m       name\u001b[38;5;241m.\u001b[39mdecode(\u001b[38;5;124m\"\u001b[39m\u001b[38;5;124mutf-8\u001b[39m\u001b[38;5;124m\"\u001b[39m),\n\u001b[0;32m   1693\u001b[0m       num_outputs\u001b[38;5;241m=\u001b[39mnum_outputs,\n\u001b[1;32m   (...)\u001b[0m\n\u001b[0;32m   1697\u001b[0m       cancellation_manager\u001b[38;5;241m=\u001b[39mcancellation_context,\n\u001b[0;32m   1698\u001b[0m   )\n",
      "File \u001b[1;32mc:\\Users\\gkart\\AppData\\Local\\Programs\\Python\\Python311\\Lib\\site-packages\\tensorflow\\python\\eager\\execute.py:53\u001b[0m, in \u001b[0;36mquick_execute\u001b[1;34m(op_name, num_outputs, inputs, attrs, ctx, name)\u001b[0m\n\u001b[0;32m     51\u001b[0m \u001b[38;5;28;01mtry\u001b[39;00m:\n\u001b[0;32m     52\u001b[0m   ctx\u001b[38;5;241m.\u001b[39mensure_initialized()\n\u001b[1;32m---> 53\u001b[0m   tensors \u001b[38;5;241m=\u001b[39m \u001b[43mpywrap_tfe\u001b[49m\u001b[38;5;241;43m.\u001b[39;49m\u001b[43mTFE_Py_Execute\u001b[49m\u001b[43m(\u001b[49m\u001b[43mctx\u001b[49m\u001b[38;5;241;43m.\u001b[39;49m\u001b[43m_handle\u001b[49m\u001b[43m,\u001b[49m\u001b[43m \u001b[49m\u001b[43mdevice_name\u001b[49m\u001b[43m,\u001b[49m\u001b[43m \u001b[49m\u001b[43mop_name\u001b[49m\u001b[43m,\u001b[49m\n\u001b[0;32m     54\u001b[0m \u001b[43m                                      \u001b[49m\u001b[43minputs\u001b[49m\u001b[43m,\u001b[49m\u001b[43m \u001b[49m\u001b[43mattrs\u001b[49m\u001b[43m,\u001b[49m\u001b[43m \u001b[49m\u001b[43mnum_outputs\u001b[49m\u001b[43m)\u001b[49m\n\u001b[0;32m     55\u001b[0m \u001b[38;5;28;01mexcept\u001b[39;00m core\u001b[38;5;241m.\u001b[39m_NotOkStatusException \u001b[38;5;28;01mas\u001b[39;00m e:\n\u001b[0;32m     56\u001b[0m   \u001b[38;5;28;01mif\u001b[39;00m name \u001b[38;5;129;01mis\u001b[39;00m \u001b[38;5;129;01mnot\u001b[39;00m \u001b[38;5;28;01mNone\u001b[39;00m:\n",
      "\u001b[1;31mKeyboardInterrupt\u001b[0m: "
     ]
    }
   ],
   "source": [
    "model.fit(tokenized_x_train,y_train,batch_size = 4)"
   ]
  },
  {
   "cell_type": "code",
   "execution_count": 18,
   "metadata": {},
   "outputs": [],
   "source": [
    "y_train = np.array(y_train)"
   ]
  },
  {
   "cell_type": "code",
   "execution_count": 74,
   "metadata": {},
   "outputs": [
    {
     "data": {
      "text/plain": [
       "numpy.ndarray"
      ]
     },
     "execution_count": 74,
     "metadata": {},
     "output_type": "execute_result"
    }
   ],
   "source": [
    "type(y_train)"
   ]
  },
  {
   "cell_type": "code",
   "execution_count": null,
   "metadata": {},
   "outputs": [
    {
     "name": "stderr",
     "output_type": "stream",
     "text": [
      "No model was supplied, defaulted to distilbert/distilbert-base-uncased-finetuned-sst-2-english and revision 714eb0f (https://huggingface.co/distilbert/distilbert-base-uncased-finetuned-sst-2-english).\n",
      "Using a pipeline without specifying a model name and revision in production is not recommended.\n",
      "Device set to use cpu\n"
     ]
    }
   ],
   "source": [
    "from transformers import pipeline\n",
    "sentiment_analyzer = pipeline(\"sentiment-analysis\")\n",
    "result= sentiment_analyzer(\"I love this Airlines\")\n",
    "print(result)"
   ]
  },
  {
   "cell_type": "code",
   "execution_count": 23,
   "metadata": {},
   "outputs": [
    {
     "name": "stdout",
     "output_type": "stream",
     "text": [
      "[]\n"
     ]
    }
   ],
   "source": [
    "import tensorflow as tf\n",
    "print(tf.config.list_physical_devices('GPU'))"
   ]
  },
  {
   "cell_type": "code",
   "execution_count": null,
   "metadata": {},
   "outputs": [],
   "source": []
  },
  {
   "cell_type": "code",
   "execution_count": null,
   "metadata": {},
   "outputs": [],
   "source": []
  }
 ],
 "metadata": {
  "kernelspec": {
   "display_name": "Python 3",
   "language": "python",
   "name": "python3"
  },
  "language_info": {
   "codemirror_mode": {
    "name": "ipython",
    "version": 3
   },
   "file_extension": ".py",
   "mimetype": "text/x-python",
   "name": "python",
   "nbconvert_exporter": "python",
   "pygments_lexer": "ipython3",
   "version": "3.11.0"
  }
 },
 "nbformat": 4,
 "nbformat_minor": 2
}
